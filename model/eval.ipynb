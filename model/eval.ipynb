{
 "cells": [
  {
   "cell_type": "code",
   "execution_count": null,
   "metadata": {},
   "outputs": [],
   "source": [
    "import sys\n",
    "sys.path.append('../')\n",
    "from dataset.cpg_dataset import InMemoryCPGDataset\n",
    "import torch\n",
    "from torch_geometric.nn import DataParallel\n",
    "from torch_geometric.loader import DataListLoader\n",
    "from sklearn.metrics import f1_score, accuracy_score, precision_score, recall_score, roc_auc_score\n",
    "from vulgnn import VulGAT, VulDeeperGCN, resume\n",
    "import pandas as pd\n",
    "from tqdm import tqdm"
   ]
  },
  {
   "cell_type": "code",
   "execution_count": null,
   "metadata": {},
   "outputs": [],
   "source": [
    "# Load processed graph datasets\n",
    "train_dataset = InMemoryCPGDataset(root='../dataset/cpg_dataset/')\n",
    "val_dataset = InMemoryCPGDataset(root='../dataset/cpg_dataset/', val=True)\n",
    "test_dataset = InMemoryCPGDataset(root='../dataset/cpg_dataset/', test=True)"
   ]
  },
  {
   "cell_type": "code",
   "execution_count": null,
   "metadata": {},
   "outputs": [],
   "source": [
    "# Load raw datasets\n",
    "train_df = pd.read_pickle('../dataset/cpg_dataset/raw/big_vul_ir_cpg_train.zip')\n",
    "test_df = pd.read_pickle('../dataset/cpg_dataset/raw/big_vul_ir_cpg_test.zip')\n",
    "val_df = pd.read_pickle('../dataset/cpg_dataset/raw/big_vul_ir_cpg_val.zip')"
   ]
  },
  {
   "cell_type": "code",
   "execution_count": null,
   "metadata": {},
   "outputs": [],
   "source": [
    "# Load the saved model\n",
    "device = torch.device('cuda' if torch.cuda.is_available() else 'cpu')\n",
    "model_filename = 'vuldeepergcn_32.pt'\n",
    "model = resume(model_filename)\n",
    "model = DataParallel(model)\n",
    "model.to(device)"
   ]
  },
  {
   "cell_type": "code",
   "execution_count": null,
   "metadata": {},
   "outputs": [],
   "source": [
    "# Function for making predictions\n",
    "@torch.no_grad()\n",
    "def pred(model: torch.nn.Module, dataset: DataListLoader):\n",
    "    model.eval()\n",
    "    y_pred = []\n",
    "    for data in tqdm(dataset):\n",
    "        out = model(data)\n",
    "        y_pred.append(out.argmax(dim=1).cpu().detach().numpy())\n",
    "    return [int(y) for y in y_pred]"
   ]
  },
  {
   "cell_type": "code",
   "execution_count": null,
   "metadata": {},
   "outputs": [],
   "source": [
    "# Predict on train, test, val sets\n",
    "y_train_pred = pred(model, DataListLoader(train_dataset))\n",
    "y_test_pred = pred(model, DataListLoader(test_dataset))\n",
    "y_val_pred = pred(model, DataListLoader(val_dataset))"
   ]
  },
  {
   "cell_type": "code",
   "execution_count": null,
   "metadata": {},
   "outputs": [],
   "source": [
    "# Add the results to the raw datasets\n",
    "train_df['pred'] = y_train_pred\n",
    "test_df['pred'] = y_test_pred\n",
    "val_df['pred'] = y_val_pred\n",
    "result_df = pd.concat([train_df, test_df, val_df], ignore_index=True).drop_duplicates(subset='old_id')"
   ]
  },
  {
   "cell_type": "code",
   "execution_count": null,
   "metadata": {},
   "outputs": [],
   "source": [
    "def calculate_metrics(y_pred, y_true):\n",
    "    f1 = f1_score(y_true, y_pred)\n",
    "    accuracy = accuracy_score(y_true, y_pred)\n",
    "    precision = precision_score(y_true, y_pred)\n",
    "    recall = recall_score(y_true, y_pred)\n",
    "    roc = None\n",
    "    try:\n",
    "        roc = roc_auc_score(y_true, y_pred)\n",
    "    except:\n",
    "        pass\n",
    "    return f1, accuracy, precision, recall, roc\n",
    "\n",
    "# Calculate the metrics: F1-score, accuracy, precision, recall, and ROC-AUC\n",
    "metrics = {}\n",
    "train_f1, train_accuracy, train_precision, train_recall, train_roc = calculate_metrics(train_df['pred'].tolist(), train_df['vul'].tolist())\n",
    "val_f1, val_accuracy, val_precision, val_recall, val_roc = calculate_metrics(val_df['pred'].tolist(), val_df['vul'].tolist())\n",
    "test_f1, test_accuracy, test_precision, test_recall, test_roc = calculate_metrics(test_df['pred'].tolist(), test_df['vul'].tolist())\n",
    "all_f1, all_accuracy, all_precision, all_recall, all_roc = calculate_metrics(result_df['pred'].tolist(), result_df['vul'].tolist())\n",
    "metrics['F1-Score'] = [train_f1, val_f1, test_f1, all_f1]\n",
    "metrics['Accuracy'] = [train_accuracy, val_accuracy, test_accuracy, all_accuracy]\n",
    "metrics['Precision'] = [train_precision, val_precision, test_precision, all_precision]\n",
    "metrics['Recall'] = [train_recall, val_recall, test_recall, all_recall]\n",
    "metrics['ROC-AUC'] = [train_roc, val_roc, test_roc, all_roc]\n",
    "pd.DataFrame(metrics, index=['Train', 'Val', 'Test', 'All'])"
   ]
  },
  {
   "cell_type": "code",
   "execution_count": null,
   "metadata": {},
   "outputs": [],
   "source": [
    "# Load the full dataset\n",
    "big_vul_df = pd.read_pickle('../dataset/big_vul_preprocessed.zip')"
   ]
  },
  {
   "cell_type": "code",
   "execution_count": null,
   "metadata": {},
   "outputs": [],
   "source": [
    "# Make in an inner join on the 'old_id' column (the original id in Big-Vul)\n",
    "pred_df = big_vul_df[['old_id', 'cwe_id', 'vulnerability_classification']].join(result_df[['old_id', 'vul', 'pred']], on='old_id', how='inner', lsuffix='_raw', rsuffix='_pred')\n",
    "# Find the top correctly predicted vulnerability types\n",
    "pred_df[pred_df['vul'] == pred_df['pred'] and pred_df['vul'] == 1][['cwe_id', 'vulnerability_classification']].value_counts()[:10]"
   ]
  },
  {
   "cell_type": "code",
   "execution_count": null,
   "metadata": {},
   "outputs": [],
   "source": []
  }
 ],
 "metadata": {
  "kernelspec": {
   "display_name": "vulgnn_klee",
   "language": "python",
   "name": "python3"
  },
  "language_info": {
   "codemirror_mode": {
    "name": "ipython",
    "version": 3
   },
   "file_extension": ".py",
   "mimetype": "text/x-python",
   "name": "python",
   "nbconvert_exporter": "python",
   "pygments_lexer": "ipython3",
   "version": "3.10.10"
  },
  "orig_nbformat": 4
 },
 "nbformat": 4,
 "nbformat_minor": 2
}
