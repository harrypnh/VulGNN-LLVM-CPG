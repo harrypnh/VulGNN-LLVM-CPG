{
 "cells": [
  {
   "cell_type": "code",
   "execution_count": 1,
   "metadata": {},
   "outputs": [],
   "source": [
    "import pandas as pd\n",
    "import gdown\n",
    "import zipfile\n",
    "import os\n",
    "from utils import *\n",
    "import numpy as np\n",
    "from tqdm import tqdm"
   ]
  },
  {
   "cell_type": "markdown",
   "metadata": {},
   "source": [
    "Run the below cell to download and upzip the Big-Vul dataset"
   ]
  },
  {
   "cell_type": "code",
   "execution_count": 2,
   "metadata": {},
   "outputs": [
    {
     "name": "stderr",
     "output_type": "stream",
     "text": [
      "Downloading...\n",
      "From (uriginal): https://drive.google.com/uc?id=1-0VhnHBp9IGh90s2wCNjeCMuy70HPl8X\n",
      "From (redirected): https://drive.google.com/uc?id=1-0VhnHBp9IGh90s2wCNjeCMuy70HPl8X&confirm=t&uuid=069502d4-4c23-4901-bbea-f6d328308166\n",
      "To: /userhome/30/nhpham/VulGNN-KLEE/dataset/MSR_data_cleaned.zip\n",
      "100%|██████████| 1.54G/1.54G [00:34<00:00, 44.7MB/s]\n"
     ]
    }
   ],
   "source": [
    "bigvul_url = \"https://drive.google.com/uc?id=1-0VhnHBp9IGh90s2wCNjeCMuy70HPl8X\"\n",
    "bigvul_zip_path = \"MSR_data_cleaned.zip\"\n",
    "gdown.download(bigvul_url, bigvul_zip_path, quiet=False)\n",
    "with zipfile.ZipFile(bigvul_zip_path, \"r\") as bigvul_zip:\n",
    "    bigvul_zip.extractall(\"./\")\n",
    "os.remove(bigvul_zip_path)"
   ]
  },
  {
   "cell_type": "code",
   "execution_count": 3,
   "metadata": {},
   "outputs": [],
   "source": [
    "bigvul_path = \"MSR_data_cleaned.csv\"\n",
    "bigvul_df = pd.read_csv(bigvul_path, low_memory=False)\n",
    "bigvul_df = bigvul_df.rename(columns={\n",
    "    'Unnamed: 0': 'old_id',\n",
    "    'codeLink': 'code_link',\n",
    "    'parentID': 'parent_id'\n",
    "})\n",
    "bigvul_df = bigvul_df.rename(columns={column: '_'.join(column.lower().split(' ')) for column in bigvul_df.columns})\n",
    "bigvul_df = bigvul_df.drop(labels=[\n",
    "    \"access_gained\", \"attack_origin\",\n",
    "    \"authentication_required\", \"availability\",\n",
    "    \"complexity\", \"confidentiality\",\n",
    "    \"integrity\", \"known_exploits\",\n",
    "    \"publish_date\", \"summary\", \"update_date\",\n",
    "    \"add_lines\", \"commit_message\", \"del_lines\",\n",
    "    \"files_changed\", \"lines_after\", \"lines_before\",\n",
    "    \"parent_id\", \"patch\", \"vul_func_with_fix\"\n",
    "], axis=1)\n",
    "columns_order = [\n",
    "    \"old_id\",\n",
    "    \"cve_id\", \"cve_page\", \"cwe_id\",\n",
    "    \"score\", \"vulnerability_classification\",\n",
    "    \"project\", \"code_link\", \"lang\",\n",
    "    \"project_before\", \"project_after\",\n",
    "    \"file_name\", \"func_name\",\n",
    "    \"func_before\", \"func_after\",\n",
    "    \"vul\"\n",
    "]"
   ]
  },
  {
   "cell_type": "code",
   "execution_count": 4,
   "metadata": {},
   "outputs": [],
   "source": [
    "before_fix_commit_parsable_repo_hosts = [\n",
    "    \"github.com\",\n",
    "    \"android.googlesource.com\",\n",
    "    \"cgit.freedesktop.org\",\n",
    "    \"git.savannah.gnu.org\",\n",
    "    \"git.launchpad.net\",\n",
    "    \"anongit.mindrot.org\",\n",
    "    \"cgit.kde.org\",\n",
    "    \"git.busybox.net\",\n",
    "    \"git.pengutronix.de\",\n",
    "    \"git.enlightenment.org\",\n",
    "    \"git.netfilter.org\",\n",
    "    \"git.savannah.nongnu.org\",\n",
    "    \"git.musl-libc.org\",\n",
    "    \"git.libssh.org\"\n",
    "]\n",
    "bigvul_pp_df = bigvul_df.copy()\n",
    "bigvul_pp_df = bigvul_pp_df[bigvul_pp_df.code_link != \"https://github.com/u-boot/u-boot/commits/master\"].reset_index(drop=True)"
   ]
  },
  {
   "cell_type": "code",
   "execution_count": 5,
   "metadata": {},
   "outputs": [
    {
     "name": "stderr",
     "output_type": "stream",
     "text": [
      "Refining code_link, commit_id, project_before, and project_after: 100%|██████████| 188491/188491 [20:24<00:00, 153.90it/s]\n"
     ]
    }
   ],
   "source": [
    "for i in tqdm(range(bigvul_pp_df.shape[0]), desc='Refining code_link, commit_id, project_before, and project_after'):\n",
    "    if bigvul_pp_df.loc[i, \"code_link\"].split(\"//\")[1].split(\"/\")[0] not in before_fix_commit_parsable_repo_hosts:\n",
    "        bigvul_pp_df.loc[i, \"project_after\"] = bigvul_pp_df.loc[i, \"commit_id\"]\n",
    "        bigvul_pp_df.loc[i, \"project_before\"] = bigvul_pp_df.loc[i, \"commit_id\"] + \"^\"\n",
    "    else:\n",
    "        bigvul_pp_df.loc[i, \"project_after\"] = parse_commit_hash(bigvul_pp_df.loc[i, \"project_after\"])\n",
    "        bigvul_pp_df.loc[i, \"project_before\"] = parse_commit_hash(bigvul_pp_df.loc[i, \"project_before\"])\n",
    "    \n",
    "    if bigvul_pp_df.loc[i, \"code_link\"] == \"https://github.com/curl/curl/commit/curl-7_50_2~32\":\n",
    "        bigvul_pp_df.loc[i, \"project_after\"] = \"7700fcba64bf5806de28f6c1c7da3b4f0b38567d\"\n",
    "    elif bigvul_pp_df.loc[i, \"code_link\"] == \"https://github.com/curl/curl/commit/curl-7_51_0-162-g3ab3c16\":\n",
    "        bigvul_pp_df.loc[i, \"project_after\"] = \"3ab3c16db6a5674f53cf23d56512a405fde0b2c9\"\n",
    "    elif bigvul_pp_df.loc[i, \"code_link\"] == \"https://git.exim.org/exim.git/commitdiff/7685ce68148a083d7759e78d01aa5198fc099c44\":\n",
    "        bigvul_pp_df.loc[i, \"project_after\"] = \"7685ce68148a083d7759e78d01aa5198fc099c44\"\n",
    "        bigvul_pp_df.loc[i, \"project_before\"] = \"a2204cac393bb160ae7f253b9bb5280fc35ca3a3\"\n",
    "    elif bigvul_pp_df.loc[i, \"code_link\"] == \"https://git.exim.org/exim.git/commitdiff/5b7a7c051c9ab9ee7c924a611f90ef2be03e0ad0\":\n",
    "        bigvul_pp_df.loc[i, \"project_after\"] = \"5b7a7c051c9ab9ee7c924a611f90ef2be03e0ad0\"\n",
    "        bigvul_pp_df.loc[i, \"project_before\"] = \"69aca2feaca1ebbc55c6f1adaee4738dc328ae90\"\n",
    "    elif bigvul_pp_df.loc[i, \"code_link\"] == \"https://git.savannah.gnu.org/gitweb/?p=gnash.git;a=commitdiff;h=fa481c116e65ccf9137c7ddc8abc3cf05dc12f55\":\n",
    "        bigvul_pp_df.loc[i, \"project_after\"] = \"fa481c116e65ccf9137c7ddc8abc3cf05dc12f55\"\n",
    "        bigvul_pp_df.loc[i, \"project_before\"] = \"3dea0709b06a82ad8085d04daf86c9beff93d742\"\n",
    "    elif bigvul_pp_df.loc[i, \"code_link\"] == \"https://git.savannah.gnu.org/gitweb/?p=gnulib.git;a=commit;h=94e01571507835ff59dd8ce2a0b56a4b566965a4\":\n",
    "        bigvul_pp_df.loc[i, \"project_after\"] = \"94e01571507835ff59dd8ce2a0b56a4b566965a4\"\n",
    "        bigvul_pp_df.loc[i, \"project_before\"] = \"cff48ff751ca1ef8136695213a1a9df4f08dba38\"\n",
    "    elif bigvul_pp_df.loc[i, \"code_link\"] == \"https://git.savannah.gnu.org/gitweb/?p=gnutls.git;a=commitdiff;h=190cef6eed37d0e73a73c1e205eb31d45ab60a3c\":\n",
    "        bigvul_pp_df.loc[i, \"project_after\"] = \"190cef6eed37d0e73a73c1e205eb31d45ab60a3c\"\n",
    "        bigvul_pp_df.loc[i, \"project_before\"] = \"c6b1847aff211db23cb1f12e8c55ce6055943750\"\n",
    "    elif bigvul_pp_df.loc[i, \"code_link\"] == \"https://git.savannah.gnu.org/gitweb/?p=gnutls.git;a=commit;h=b495740f2ff66550ca9395b3fda3ea32c3acb185\":\n",
    "        bigvul_pp_df.loc[i, \"project_after\"] = \"b495740f2ff66550ca9395b3fda3ea32c3acb185\"\n",
    "        bigvul_pp_df.loc[i, \"project_before\"] = \"60c62e045245f07798f61ef7f39e8ae84fd9c8e0\"\n",
    "    elif bigvul_pp_df.loc[i, \"code_link\"] == \"https://git.savannah.gnu.org/gitweb/?p=gnutls.git;a=commit;h=422214868061370aeeb0ac9cd0f021a5c350a57d\":\n",
    "        bigvul_pp_df.loc[i, \"project_after\"] = \"422214868061370aeeb0ac9cd0f021a5c350a57d\"\n",
    "        bigvul_pp_df.loc[i, \"project_before\"] = \"cfea38b5482c21fe6ddffaddc59a0040f80bd578\"\n",
    "    elif bigvul_pp_df.loc[i, \"code_link\"] == \"https://git.savannah.gnu.org/gitweb/?p=gnutls.git;a=commitdiff;h=bc8102405fda11ea00ca3b42acc4f4bce9d6e97b\":\n",
    "        bigvul_pp_df.loc[i, \"project_after\"] = \"bc8102405fda11ea00ca3b42acc4f4bce9d6e97b\"\n",
    "        bigvul_pp_df.loc[i, \"project_before\"] = \"c50290f4096cf4fcac9ff3bfc47bf4394e6adf04\"\n",
    "    elif bigvul_pp_df.loc[i, \"code_link\"] == \"https://git.savannah.gnu.org/gitweb/?p=gnutls.git;a=commitdiff;h=e82ef4545e9e98cbcb032f55d7c750b81e3a0450\":\n",
    "        bigvul_pp_df.loc[i, \"project_after\"] = \"e82ef4545e9e98cbcb032f55d7c750b81e3a0450\"\n",
    "        bigvul_pp_df.loc[i, \"project_before\"] = \"8fe80d662c3320156f5731a672016d7a1b9dba1b\"\n",
    "    elif bigvul_pp_df.loc[i, \"code_link\"] == \"https://git.savannah.gnu.org/gitweb/?p=libtasn1.git;a=commit;h=4d4f992826a4962790ecd0cce6fbba4a415ce149\":\n",
    "        bigvul_pp_df.loc[i, \"project_after\"] = \"4d4f992826a4962790ecd0cce6fbba4a415ce149\"\n",
    "        bigvul_pp_df.loc[i, \"project_before\"] = \"77068c35a32cc31ba6b3af257921ca90696c7945\"\n",
    "    elif bigvul_pp_df.loc[i, \"code_link\"] == \"https://git.savannah.gnu.org/gitweb/?p=libtasn1.git;a=commit;h=a6e0a0b58f5cdaf4e9beca5bce69c09808cbb625\":\n",
    "        bigvul_pp_df.loc[i, \"project_after\"] = \"a6e0a0b58f5cdaf4e9beca5bce69c09808cbb625\"\n",
    "        bigvul_pp_df.loc[i, \"project_before\"] = \"9ec2c56de62085a88eea152941e9b32e3810e5d0\"\n",
    "    elif bigvul_pp_df.loc[i, \"code_link\"] == \"https://git.savannah.gnu.org/gitweb/?p=libtasn1.git;a=commit;h=f435825c0f527a8e52e6ffbc3ad0bc60531d537e\":\n",
    "        bigvul_pp_df.loc[i, \"project_after\"] = \"f435825c0f527a8e52e6ffbc3ad0bc60531d537e\"\n",
    "        bigvul_pp_df.loc[i, \"project_before\"] = \"d3ca1b00bd920191f1e15a530a45c19bc3ebd0ef\"\n",
    "    elif bigvul_pp_df.loc[i, \"code_link\"] == \"https://git.savannah.gnu.org/gitweb/?p=quagga.git;a=commitdiff;h=8794e8d229dc9fe29ea31424883433d4880ef408\":\n",
    "        bigvul_pp_df.loc[i, \"project_after\"] = \"8794e8d229dc9fe29ea31424883433d4880ef408\"\n",
    "        bigvul_pp_df.loc[i, \"project_before\"] = \"7621f336e2f346edee43227f0b1ef93fe769720b\"\n",
    "    elif bigvul_pp_df.loc[i, \"code_link\"] == \"https://git.savannah.gnu.org/gitweb/?p=quagga.git;a=commitdiff;h=3f872fe60463a931c5c766dbf8c36870c0023e88\":\n",
    "        bigvul_pp_df.loc[i, \"project_after\"] = \"3f872fe60463a931c5c766dbf8c36870c0023e88\"\n",
    "        bigvul_pp_df.loc[i, \"project_before\"] = \"747d6e783b60d67e6f83d3681fe523b2ecb01ed3\"\n",
    "    elif bigvul_pp_df.loc[i, \"code_link\"] == \"https://git.savannah.gnu.org/gitweb/?p=weechat.git;a=commit;h=c265cad1c95b84abfd4e8d861f25926ef13b5d91\":\n",
    "        bigvul_pp_df.loc[i, \"project_after\"] = \"c265cad1c95b84abfd4e8d861f25926ef13b5d91\"\n",
    "        bigvul_pp_df.loc[i, \"project_before\"] = \"bf2f7d33ef7c906142a839ad97bb81d8f13b0c6f\"\n",
    "    elif bigvul_pp_df.loc[i, \"code_link\"] == \"https://git.savannah.gnu.org/gitweb/?p=weechat.git;a=commitdiff_plain;h=efb795c74fe954b9544074aafcebb1be4452b03a\":\n",
    "        bigvul_pp_df.loc[i, \"project_after\"] = \"efb795c74fe954b9544074aafcebb1be4452b03a\"\n",
    "        bigvul_pp_df.loc[i, \"project_before\"] = \"c1389f8fe19068790d29e39c3f94b71b8c33ea03\"\n",
    "    \n",
    "    bigvul_pp_df.loc[i, \"code_link\"] = parse_repo_link(bigvul_pp_df.loc[i, \"code_link\"])\n",
    "    bigvul_pp_df.loc[i, \"project\"] = \"/\".join(bigvul_pp_df.loc[i, \"code_link\"].split(\"//\")[1].split(\".git\")[0].split(\"/\")[1:])\n",
    "\n",
    "bigvul_pp_df = bigvul_pp_df.drop(labels=['commit_id'], axis=1)"
   ]
  },
  {
   "cell_type": "code",
   "execution_count": 6,
   "metadata": {},
   "outputs": [],
   "source": [
    "bigvul_pp_df['func_name_before'] = bigvul_pp_df['func_before'].apply(\n",
    "    lambda x: find_function_name(x)\n",
    ")\n",
    "bigvul_pp_df['func_name_after'] = bigvul_pp_df['func_after'].apply(\n",
    "    lambda x: find_function_name(x)\n",
    ")\n",
    "if bigvul_pp_df[bigvul_pp_df.apply(lambda x: True if x['func_name_before'] != x['func_name_after'] else False, axis=1)].shape[0] == 0:\n",
    "    bigvul_pp_df = bigvul_pp_df.drop(labels=[\"func_name_after\"], axis=1)\n",
    "    bigvul_pp_df = bigvul_pp_df.rename(columns={\"func_name_before\": \"func_name\"})"
   ]
  },
  {
   "cell_type": "code",
   "execution_count": 7,
   "metadata": {},
   "outputs": [],
   "source": [
    "bigvul_pp_df = bigvul_pp_df.sort_values(\n",
    "    by=[\n",
    "        \"code_link\",\n",
    "        \"project_before\",\n",
    "        \"project_after\",\n",
    "        \"func_name\"\n",
    "    ], ignore_index=True\n",
    ").drop_duplicates(\n",
    "    subset=[\n",
    "        \"code_link\",\n",
    "        \"project_before\",\n",
    "        \"project_after\",\n",
    "        \"func_name\"\n",
    "    ], ignore_index=True\n",
    ")"
   ]
  },
  {
   "cell_type": "code",
   "execution_count": 8,
   "metadata": {},
   "outputs": [
    {
     "data": {
      "text/plain": [
       "0    171586\n",
       "1     10318\n",
       "Name: vul, dtype: int64"
      ]
     },
     "execution_count": 8,
     "metadata": {},
     "output_type": "execute_result"
    }
   ],
   "source": [
    "bigvul_pp_df['vul'].value_counts()"
   ]
  },
  {
   "cell_type": "code",
   "execution_count": 9,
   "metadata": {},
   "outputs": [],
   "source": [
    "bigvul_pp_df[\"llvm_ir_before\"] = np.nan\n",
    "bigvul_pp_df[\"llvm_ir_after\"] = np.nan\n",
    "bigvul_pp_df[\"cpg\"] = np.nan\n",
    "bigvul_pp_df = pd.get_dummies(\n",
    "    bigvul_pp_df[columns_order[:-1] + [\"llvm_ir_before\", \"llvm_ir_after\", \"cpg\", \"vul\"]],\n",
    "    columns=[\"vul\"],\n",
    "    dtype=int\n",
    ").rename(columns={\"vul_0\": \"non_vul\", \"vul_1\": \"vul\"})\n",
    "bigvul_pp_df.index.names = [\"id\"]\n",
    "bigvul_pp_df.to_pickle(\"big_vul_preprocessed.zip\")"
   ]
  },
  {
   "cell_type": "code",
   "execution_count": 10,
   "metadata": {},
   "outputs": [],
   "source": [
    "os.remove(bigvul_path)"
   ]
  },
  {
   "cell_type": "code",
   "execution_count": null,
   "metadata": {},
   "outputs": [],
   "source": []
  }
 ],
 "metadata": {
  "kernelspec": {
   "display_name": "Python 3 (ipykernel)",
   "language": "python",
   "name": "python3"
  },
  "language_info": {
   "codemirror_mode": {
    "name": "ipython",
    "version": 3
   },
   "file_extension": ".py",
   "mimetype": "text/x-python",
   "name": "python",
   "nbconvert_exporter": "python",
   "pygments_lexer": "ipython3",
   "version": "3.10.10"
  },
  "vscode": {
   "interpreter": {
    "hash": "9129f43fd07a6290ef50f4660effaeac942ad5e1f096de43341874ca54761a47"
   }
  }
 },
 "nbformat": 4,
 "nbformat_minor": 4
}
